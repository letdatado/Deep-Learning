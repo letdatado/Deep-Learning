{
 "cells": [
  {
   "cell_type": "code",
   "execution_count": 5,
   "id": "f66761e1",
   "metadata": {},
   "outputs": [],
   "source": [
    "# importing the libraries\n",
    "import re\n",
    "import nltk\n",
    "import string\n",
    "import wikipedia\n",
    "from sklearn.feature_extraction.text import TfidfVectorizer\n",
    "from sklearn.metrics.pairwise import cosine_similarity\n",
    "import aiml"
   ]
  },
  {
   "cell_type": "code",
   "execution_count": 6,
   "id": "7a376c78",
   "metadata": {},
   "outputs": [],
   "source": [
    "def details(topic):\n",
    "    page_object = wikipedia.page(topic)\n",
    "    my_article = page_object.content\n",
    "\n",
    "    corpus = '' # one big string !! \n",
    "    \n",
    "    # This for loop loops for every word present in the corpus\n",
    "    for words in my_article:\n",
    "        corpus += words\n",
    "    \n",
    "    # we lower case it here (we could do it upper case too)\n",
    "    corpus = corpus.lower()\n",
    "\n",
    "    corpus = re.sub(r'\\[[0-9]*\\]', ' ', corpus) \n",
    "    corpus = re.sub(r'\\s+', ' ', corpus)\n",
    "    corpus = re.sub(r'\\=+', '', corpus)\n",
    "    \n",
    "    \n",
    "    sent_tokens = nltk.sent_tokenize(corpus)\n",
    "    word_tokens = nltk.word_tokenize(corpus)\n",
    "\n",
    "    lemma = nltk.stem.WordNetLemmatizer()\n",
    "\n",
    "    def lemtokens(tokens):\n",
    "        return [lemma.lemmatize(token) for token in tokens]\n",
    "    dict_remove_punctuations = dict((ord(punct), None) for punct in string.punctuation)\n",
    "\n",
    "    def lemnormalize(text):\n",
    "        return lemtokens(nltk.word_tokenize(text.lower().translate(dict_remove_punctuations)))\n",
    "\n",
    "\n",
    "    # ## Response Generation \n",
    "\n",
    "\n",
    "    def response(user_response):\n",
    "        robot_response = ''\n",
    "        TfidfVec = TfidfVectorizer(tokenizer=lemnormalize, stop_words='english')\n",
    "        tfidf = TfidfVec.fit_transform(sent_tokens)\n",
    "        vals = cosine_similarity(tfidf[-1],tfidf)\n",
    "        idx = vals.argsort()[0][-2]\n",
    "        flat = vals.flatten()\n",
    "        flat.sort()\n",
    "        req_tfidf = flat[-2]\n",
    "        if(req_tfidf == 0):\n",
    "            robot_response = robot_response + 'I am Sorry! I couldn\\'t get it'\n",
    "            return robot_response\n",
    "        else:\n",
    "            robot_response = robot_response + sent_tokens[idx]\n",
    "            return robot_response \n",
    "\n",
    "\n",
    "    # ## Defining a convo\n",
    "\n",
    "    flag = True\n",
    "    print('Bot: My name is Bot. Lets try to get to know about {} in detail, If you want to exit anytime, just type \\'bye\\''.format(topic))\n",
    "    while(flag == True):\n",
    "        user_response = input()\n",
    "        user_response = user_response.lower()\n",
    "        if(user_response != 'bye'):\n",
    "            if(user_response == 'thanks' or user_response == 'thank you'):\n",
    "                flag = False\n",
    "                print('Bot: You are welcome')\n",
    "            else:\n",
    "\n",
    "                sent_tokens.append(user_response)\n",
    "                word_tokens = word_tokens + nltk.word_tokenize(user_response)\n",
    "                final_words = list(set(word_tokens))\n",
    "                print('Bot: ', end='')\n",
    "                print(response(user_response))\n",
    "                sent_tokens.remove(user_response)\n",
    "        else:\n",
    "            flag = False\n",
    "            print('Bot: Goodbye! Take care :))')"
   ]
  },
  {
   "cell_type": "code",
   "execution_count": 8,
   "id": "bc43395b",
   "metadata": {},
   "outputs": [
    {
     "name": "stdout",
     "output_type": "stream",
     "text": [
      "Bot: My name is Bot. Lets try to get to know about Android Operating System in detail, If you want to exit anytime, just type 'bye'\n",
      "first android \n",
      "Bot: "
     ]
    },
    {
     "name": "stderr",
     "output_type": "stream",
     "text": [
      "G:\\Anaconda3\\lib\\site-packages\\sklearn\\feature_extraction\\text.py:388: UserWarning: Your stop_words may be inconsistent with your preprocessing. Tokenizing the stop words generated tokens ['ha', 'le', 'u', 'wa'] not in stop_words.\n",
      "  warnings.warn('Your stop_words may be inconsistent with '\n"
     ]
    },
    {
     "name": "stdout",
     "output_type": "stream",
     "text": [
      "the security issue is only with android 8 (android oreo) and android 9 (android pie).\n",
      "phones android\n",
      "Bot: for example, as android was developed initially as a phone os, hardware such as microphones were required, while over time the phone function became optional.\n",
      "exit\n",
      "Bot: I am Sorry! I couldn't get it\n",
      "bye\n",
      "Bot: Goodbye! Take care :))\n"
     ]
    }
   ],
   "source": [
    "details('Android Operating System')"
   ]
  },
  {
   "cell_type": "code",
   "execution_count": 9,
   "id": "f1b033d3",
   "metadata": {},
   "outputs": [
    {
     "name": "stdout",
     "output_type": "stream",
     "text": [
      "Loading mybot-basic.xml...done (0.00 seconds)\n",
      "Kernel bootstrap completed in 0.00 seconds\n",
      "Welcome to this chat bot. Please feel free to ask questions from me!\n",
      "> hi\n",
      "Hello! How are you?\n",
      "> i am good\n",
      "I did not get that, please try again :(.\n",
      "> i am fine\n",
      "THATS COOL. HOW CAN I ASSIST YOU?\n",
      "> who is donald trump\n",
      "Sorry, I do not know that. Be more specific!\n",
      "> bye\n",
      "BYE! IT WAS GOOD TALKING TO YOU.\n"
     ]
    }
   ],
   "source": [
    "\n",
    "\"\"\"\n",
    "Basic chatbot design --- for your own modifications\n",
    "\"\"\"\n",
    "# Create a Kernel object. No string encoding (all I/O is unicode)\n",
    "kern = aiml.Kernel()\n",
    "kern.setTextEncoding(None)\n",
    "kern.bootstrap(learnFiles=\"OO_chatbot_project/mybot-basic.xml\")\n",
    "\n",
    "\n",
    "print(\"Welcome to this chat bot. Please feel free to ask questions from me!\")\n",
    "#######################################################\n",
    "# Main loop\n",
    "#######################################################\n",
    "while True:\n",
    "    #get user input\n",
    "    try:\n",
    "        userInput = input(\"> \")\n",
    "    except (KeyboardInterrupt, EOFError) as e:\n",
    "        print(\"Bye!\")\n",
    "        break\n",
    "    #pre-process user input and determine response agent (if needed)\n",
    "    responseAgent = 'aiml'\n",
    "    #activate selected response agent\n",
    "    if responseAgent == 'aiml':\n",
    "        answer = kern.respond(userInput)\n",
    "    if answer[0] == '#':\n",
    "        params = answer[1:].split('$')\n",
    "        cmd = int(params[0])\n",
    "        if cmd == 0:\n",
    "            print(params[1])\n",
    "            break\n",
    "        elif cmd == 1:\n",
    "            try:\n",
    "                details(params[1])\n",
    "            except:\n",
    "                print(\"Sorry, I do not know that. Be more specific!\")\n",
    "        elif cmd == 99:\n",
    "            print(\"I did not get that, please try again :(.\")\n",
    "    else:\n",
    "        print(answer)"
   ]
  },
  {
   "cell_type": "code",
   "execution_count": null,
   "id": "dd2a3ac0",
   "metadata": {},
   "outputs": [],
   "source": []
  }
 ],
 "metadata": {
  "kernelspec": {
   "display_name": "Python 3 (ipykernel)",
   "language": "python",
   "name": "python3"
  },
  "language_info": {
   "codemirror_mode": {
    "name": "ipython",
    "version": 3
   },
   "file_extension": ".py",
   "mimetype": "text/x-python",
   "name": "python",
   "nbconvert_exporter": "python",
   "pygments_lexer": "ipython3",
   "version": "3.9.7"
  }
 },
 "nbformat": 4,
 "nbformat_minor": 5
}
