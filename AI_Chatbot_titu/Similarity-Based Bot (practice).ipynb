{
 "cells": [
  {
   "cell_type": "code",
   "execution_count": 15,
   "id": "f30c0851",
   "metadata": {},
   "outputs": [],
   "source": [
    "# importing the libraries\n",
    "import re\n",
    "import numpy as np\n",
    "import nltk\n",
    "import string\n",
    "import random\n",
    "import wikipedia"
   ]
  },
  {
   "cell_type": "code",
   "execution_count": 16,
   "id": "bb3e593f",
   "metadata": {},
   "outputs": [],
   "source": [
    "#pip install pyOpenSSL --upgrade\n"
   ]
  },
  {
   "cell_type": "code",
   "execution_count": 17,
   "id": "bb995ee8",
   "metadata": {},
   "outputs": [],
   "source": [
    "# I will obtain the corpus from wikipedia \n",
    "page_object = wikipedia.page('Pakistan')\n",
    "my_article = page_object.content"
   ]
  },
  {
   "cell_type": "code",
   "execution_count": 18,
   "id": "436e9d82",
   "metadata": {},
   "outputs": [],
   "source": [
    "corpus = ''\n",
    "for words in my_article:\n",
    "    corpus += words\n",
    "    \n",
    "corpus = corpus.lower()"
   ]
  },
  {
   "cell_type": "code",
   "execution_count": 19,
   "id": "0c84da23",
   "metadata": {},
   "outputs": [],
   "source": [
    "corpus = re.sub(r'\\[[0-9]*\\]', ' ', corpus)\n",
    "corpus = re.sub(r'\\s+', ' ', corpus)\n",
    "corpus = re.sub(r'\\=+', '', corpus)"
   ]
  },
  {
   "cell_type": "code",
   "execution_count": 20,
   "id": "eddbec76",
   "metadata": {},
   "outputs": [],
   "source": [
    "sent_tokens = nltk.sent_tokenize(corpus)\n",
    "word_tokens = nltk.word_tokenize(corpus)"
   ]
  },
  {
   "cell_type": "code",
   "execution_count": 21,
   "id": "84c40795",
   "metadata": {},
   "outputs": [
    {
     "data": {
      "text/plain": [
       "[\"it is the world's fifth-most populous country, with a population of almost 227 million, and has the world's second-largest muslim population.\",\n",
       " 'pakistan is the 33rd-largest country by area, spanning 881,913 square kilometres (340,509 square miles).',\n",
       " 'it has a 1,046-kilometre (650-mile) coastline along the arabian sea and gulf of oman in the south, and is bordered by india to the east, afghanistan to the west, iran to the southwest, and china to the northeast.',\n",
       " \"it is separated narrowly from tajikistan by afghanistan's wakhan corridor in the north, and also shares a maritime border with oman.\",\n",
       " 'pakistan is the site of several ancient cultures, including the 8,500-year-old neolithic site of mehrgarh in balochistan, and the indus valley civilisation of the bronze age, the most extensive of the civilisations of the old world.',\n",
       " 'the region that comprises the modern state of pakistan was the realm of multiple empires and dynasties, including the achaemenid; briefly that of alexander the great; the seleucid, the maurya, the kushan, the gupta; the umayyad caliphate in its southern regions, the hindu shahi, the ghaznavids, the delhi sultanate, the mughals, the durranis, the sikh empire, british east india company rule, and most recently, the british indian empire from 1858 to 1947. spurred by the pakistan movement, which sought a homeland for the muslims of british india, and election victories in 1946 by the all-india muslim league, pakistan gained independence in 1947 after the partition of the british indian empire, which awarded separate statehood to its muslim-majority regions and was accompanied by an unparalleled mass migration and loss of life.',\n",
       " 'initially a dominion of the british commonwealth, pakistan officially drafted its constitution in 1956, and emerged as a declared islamic republic.',\n",
       " 'in 1971, the exclave of east pakistan seceded as the new country of bangladesh after a nine-month-long civil war.',\n",
       " 'in the following four decades, pakistan has been ruled by governments whose descriptions, although complex, commonly alternated between civilian and military, democratic and authoritarian, relatively secular and islamist.',\n",
       " \"pakistan elected a civilian government in 2008, and in 2010 adopted a parliamentary system with periodic elections.pakistan is a middle power nation, and has the world's sixth-largest standing armed forces.\",\n",
       " 'it is a declared nuclear-weapons state, and is ranked amongst the emerging and growth-leading economies, with a large and rapidly-growing middle class.',\n",
       " \"pakistan's political history since independence has been characterized by periods of significant economic and military growth as well as those of political and economic instability.\",\n",
       " 'it is an ethnically and linguistically diverse country, with similarly diverse geography and wildlife.',\n",
       " 'however, the country continues to face challenges, including poverty, illiteracy, corruption and terrorism.',\n",
       " 'pakistan is a member of the united nations, the shanghai cooperation organisation, the organisation of islamic cooperation, the commonwealth of nations, the south asian association for regional cooperation, and the islamic military counter-terrorism coalition, and is designated as a major non-nato ally by the united states.',\n",
       " 'etymology  the name pakistan means literally \"a land abounding in the pure\" or \"a land in which the pure abound\", in urdu and persian.',\n",
       " 'it references the word پاک (pāk), meaning \"pure\" in persian and pashto.',\n",
       " 'the suffix ـستان (transliterated in english as -stan) is from persian, and means \"a place abounding in\" or \"a place where anything abounds\".the name of the country was coined in 1933 by choudhry rahmat ali, a pakistan movement activist, who published it in a pamphlet now or never, using it as an acronym (\"thirty million muslim brethren who live in pakistan\"), and referring to the names of the five northern regions of the british raj: punjab, afghania, kashmir, sindh, and baluchistan.',\n",
       " 'history   early and medieval age  some of the earliest ancient human civilisations in south asia originated from areas encompassing present-day pakistan.',\n",
       " 'the earliest known inhabitants in the region were soanian during the lower paleolithic, of whom stone tools have been found in the soan valley of punjab.',\n",
       " 'the indus region, which covers most of present day pakistan, was the site of several successive ancient cultures including the neolithic mehrgarh and the bronze age indus valley civilisation (2,800–1,800 bce) at harappa and mohenjo-daro.',\n",
       " 'the vedic period (1500–500 bce) was characterised by an indo-aryan culture; during this period the vedas, the oldest scriptures associated with hinduism, were composed, and this culture later became well established in the region.',\n",
       " 'multan was an important hindu pilgrimage centre.',\n",
       " 'the vedic civilisation flourished in the ancient gandhāran city of takṣaśilā, now taxila in the punjab, which was founded around 1000 bce.',\n",
       " \"successive ancient empires and kingdoms ruled the region: the persian achaemenid empire (around 519 bce), alexander the great's empire in 326 bce and the maurya empire, founded by chandragupta maurya and extended by ashoka the great, until 185 bce.\",\n",
       " 'the indo-greek kingdom founded by demetrius of bactria (180–165 bce) included gandhara and punjab and reached its greatest extent under menander (165–150 bce), prospering the greco-buddhist culture in the region.',\n",
       " 'taxila had one of the earliest universities and centres of higher education in the world, which was established during the late vedic period in 6th century bce.',\n",
       " 'the school consisted of several monasteries without large dormitories or lecture halls where the religious instruction was provided on an individualistic basis.',\n",
       " 'the ancient university was documented by the invading forces of alexander the great and was also recorded by chinese pilgrims in the 4th or 5th century ce.at its zenith, the rai dynasty (489–632 ce) of sindh ruled this region and the surrounding territories.',\n",
       " 'the pala dynasty was the last buddhist empire, which, under dharmapala and devapala, stretched across south asia from what is now bangladesh through northern india to pakistan.',\n",
       " 'islamic conquest  the arab conqueror muhammad bin qasim conquered sindh in 711 ce.',\n",
       " \"the pakistan government's official chronology claims this as the time when the foundation of pakistan was laid but the concept of pakistan arrived in the 19th century.\",\n",
       " 'the early medieval period (642–1219 ce) witnessed the spread of islam in the region.',\n",
       " 'during this period, sufi missionaries played a pivotal role in converting a majority of the regional buddhist and hindu population to islam.',\n",
       " 'upon the defeat of the turk and hindu shahi dynasties which governed the kabul valley, gandhara (present-day khyber pakhtunkwa), and western punjab in the 7th to 11th centuries ce, several successive muslim empires ruled over the region, including the ghaznavid empire (975–1187 ce), the ghorid kingdom, and the delhi sultanate (1206–1526 ce).',\n",
       " 'the lodi dynasty, the last of the delhi sultanate, was replaced by the mughal empire (1526–1857 ce).',\n",
       " 'the mughals introduced persian literature and high culture, establishing the roots of indo-persian culture in the region.',\n",
       " 'in the region of modern-day pakistan, key cities during the mughal period were lahore and thatta, both of which were chosen as the site of impressive mughal buildings.',\n",
       " 'in the early 16th century, the region remained under the mughal empire.in the 18th century, the slow disintegration of the mughal empire was hastened by the emergence of the rival powers of the maratha confederacy and later the sikh empire, as well as invasions by nader shah from iran in 1739 and the durrani empire of afghanistan in 1759. the growing political power of the british in bengal had not yet reached the territories of modern pakistan.',\n",
       " 'colonial period  none of the territory of modern pakistan was ruled by the british, or other european powers, until 1839, when karachi, then a small fishing village with a mud fort guarding the harbour, was taken, and held as an enclave with a port and military base for the first afghan war that soon followed.',\n",
       " 'the rest of sindh was taken in 1843, and in the following decades, first the east india company, and then after the post-sepoy mutiny (1857–1858) direct rule of queen victoria of the british empire, took over most of the country partly through wars, and also treaties.',\n",
       " 'the main wars were that against the baloch talpur dynasty, ended by the battle of miani (1843) in sindh, the anglo-sikh wars (1845–1849) and the anglo-afghan wars (1839–1919).',\n",
       " 'by 1893, all modern pakistan was part of the british indian empire, and remained so until independence in 1947. under the british, modern pakistan was mostly divided into the sind division, punjab province, and the baluchistan agency.',\n",
       " 'there were various princely states, of which the largest was bahawalpur.',\n",
       " \"a rebellion in 1857 called the sepoy mutiny of bengal was the region's major armed struggle against the british.\",\n",
       " 'divergence in the relationship between hinduism and islam created a major rift in british india that led to motivated religious violence in british india.',\n",
       " 'the language controversy further escalated the tensions between hindus and muslims.',\n",
       " 'the hindu renaissance witnessed an awakening of intellectualism in traditional hinduism and saw the emergence of more assertive influence in the social and political spheres in british india.',\n",
       " \"a muslim intellectual movement, founded by sir syed ahmed khan to counter the hindu renaissance, envisioned, as well as advocated for the two-nation theory, and led to the creation of the all-india muslim league in 1906. in contrast to the indian national congress's anti-british efforts, the muslim league was a pro-british movement whose political program inherited the british values that would shape pakistan's future civil society.\",\n",
       " 'during world war i, british intelligence foiled an anti-english conspiracy involving the nexus of congress and the german empire.',\n",
       " 'the largely non-violent independence struggle led by the indian congress engaged millions of protesters in mass campaigns of civil disobedience in the 1920s and 1930s against the british empire.',\n",
       " 'the muslim league slowly rose to mass popularity in the 1930s amid fears of under-representation and neglect by the british of the indian muslims in politics.',\n",
       " 'in his presidential address of 29 december 1930, allama iqbal called for \"the amalgamation of north-west muslim-majority indian states\" consisting of punjab, north-west frontier province, sind, and baluchistan.',\n",
       " 'the perceived neglect of muslim interests by congress led british provincial governments during the period of 1937–39 convinced muhammad ali jinnah, the founder of pakistan to espouse the two-nation theory and led the muslim league to adopt the lahore resolution of 1940 presented by sher-e-bangla a.k.',\n",
       " 'fazlul haque, popularly known as the pakistan resolution.',\n",
       " \"in world war ii, jinnah and british-educated founding fathers in the muslim league supported the united kingdom's war efforts, countering opposition against it whilst working towards sir syed's vision.\",\n",
       " 'pakistan movement  the 1946 elections resulted in the muslim league winning 90 percent of the seats reserved for muslims.',\n",
       " 'thus, the 1946 election was effectively a plebiscite in which the indian muslims were to vote on the creation of pakistan, a plebiscite won by the muslim league.',\n",
       " 'this victory was assisted by the support given to the muslim league by the support of the landowners of sindh and punjab.',\n",
       " \"the indian national congress, which initially denied the muslim league's claim of being the sole representative of indian muslims, was now forced to recognise the fact.\",\n",
       " \"the british had no alternative except to take jinnah's views into account as he had emerged as the sole spokesperson of the entirety of british india's muslims.\",\n",
       " 'however, the british did not want colonial india to be partitioned, and in one last effort to prevent it, they devised the cabinet mission plan.as the cabinet mission failed, the british government announced its intention to end the british rule in 1946–47.',\n",
       " 'nationalists in british india—including jawaharlal nehru and abul kalam azad of congress, jinnah of the all-india muslim league, and master tara singh representing the sikhs—agreed to the proposed terms of transfer of power and independence in june 1947 with the viceroy of india, lord mountbatten of burma.',\n",
       " 'as the united kingdom agreed to the partitioning of india in 1947, the modern state of pakistan was established on 14 august 1947 (27th of ramadan in 1366 of the islamic calendar), amalgamating the muslim-majority eastern and northwestern regions of british india.',\n",
       " 'it comprised the provinces of balochistan, east bengal, the north-west frontier province, west punjab, and sindh.in the riots that accompanied the partition in punjab province, it is believed that between 200,000 and 2,000,000 people were killed in what some have described as a retributive genocide between the religions while 50,000 muslim women were abducted and raped by hindu and sikh men, 33,000 hindu and sikh women also experienced the same fate at the hands of muslims.',\n",
       " 'around 6.5 million muslims moved from india to west pakistan and 4.7 million hindus and sikhs moved from west pakistan to india.',\n",
       " 'it was the largest mass migration in human history.',\n",
       " 'a subsequent dispute over the princely state of jammu and kashmir eventually sparked the indo-pakistani war of 1947–1948.',\n",
       " \"independence and modern pakistan  after independence in 1947, jinnah, the president of the muslim league, became the nation's first governor-general as well as the first president-speaker of the parliament, but he died of tuberculosis on 11 september 1948. meanwhile, pakistan's founding fathers agreed to appoint liaquat ali khan, the secretary-general of the party, the nation's first prime minister.\",\n",
       " 'from 1947 to 1956, pakistan was a monarchy within the commonwealth of nations, and had two monarchs before it became a republic.',\n",
       " 'the creation of pakistan was never fully accepted by many british leaders, among them lord mountbatten.',\n",
       " \"mountbatten clearly expressed his lack of support and faith in the muslim league's idea of pakistan.\",\n",
       " \"jinnah refused mountbatten's offer to serve as governor-general of pakistan.\",\n",
       " \"when mountbatten was asked by collins and lapierre if he would have sabotaged pakistan had he known that jinnah was dying of tuberculosis, he replied 'most probably'.maulana shabbir ahmad usmani, a respected deobandi alim (scholar) who occupied the position of shaykh al-islam in pakistan in 1949, and maulana mawdudi of jamaat-i-islami played a pivotal role in the demand for an islamic constitution.\",\n",
       " 'mawdudi demanded that the constituent assembly make an explicit declaration affirming the \"supreme sovereignty of god\" and the supremacy of the shariah in pakistan.a significant result of the efforts of the jamaat-i-islami and the ulama was the passage of the objectives resolution in march 1949. the objectives resolution, which liaquat ali khan called the second most important step in pakistan\\'s history, declared that \"sovereignty over the entire universe belongs to god almighty alone and the authority which he has delegated to the state of pakistan through its people for being exercised within the limits prescribed by him is a sacred trust\".',\n",
       " 'the objectives resolution has been incorporated as a preamble to the constitutions of 1956, 1962, and 1973.democracy was stalled by the martial law that had been enforced by president iskander mirza, who was replaced by the army chief, general ayub khan.',\n",
       " 'after adopting a presidential system in 1962, the country experienced exceptional growth until a second war with india in 1965 that led to an economic downturn and wide-scale public disapproval in 1967. consolidating control from ayub khan in 1969, president yahya khan had to deal with a devastating cyclone that caused 500,000 deaths in east pakistan.',\n",
       " 'in 1970 pakistan held its first democratic elections since independence, meant to mark a transition from military rule to democracy, but after the east pakistani awami league won against the pakistan peoples party (ppp), yahya khan and the military establishment refused to hand over power.',\n",
       " 'operation searchlight, a military crackdown on the bengali nationalist movement, led to a declaration of independence and the waging of a war of liberation by the bengali mukti bahini forces in east pakistan, which in west pakistan was described as a civil war as opposed to a war of liberation.independent researchers estimate that between 300,000 and 500,000 civilians died during this period while the bangladesh government puts the number of dead at three million, a figure that is now nearly universally regarded as excessively inflated.',\n",
       " 'some academics such as rudolph rummel and rounaq jahan say both sides committed genocide; others such as richard sisson and leo e. rose believe there was no genocide.',\n",
       " \"in response to india's support for the insurgency in east pakistan, preemptive strikes on india by pakistan's air force, navy, and marines sparked a conventional war in 1971 that resulted in an indian victory and east pakistan gaining independence as bangladesh.with pakistan surrendering in the war, yahya khan was replaced by zulfikar ali bhutto as president; the country worked towards promulgating its constitution and putting the country on the road to democracy.\",\n",
       " 'democratic rule resumed from 1972 to 1977—an era of self-consciousness, intellectual leftism, nationalism, and nationwide reconstruction.',\n",
       " \"in 1972 pakistan embarked on an ambitious plan to develop its nuclear deterrence capability with the goal of preventing any foreign invasion; the country's first nuclear power plant was inaugurated in that same year.\",\n",
       " \"accelerated in response to india's first nuclear test in 1974, this crash program was completed in 1979.democracy ended with a military coup in 1977 against the leftist ppp, which saw general zia-ul-haq become the president in 1978. from 1977 to 1988, president zia's corporatisation and economic islamisation initiatives led to pakistan becoming one of the fastest-growing economies in south asia.\",\n",
       " \"while building up the country's nuclear program, increasing islamisation, and the rise of a homegrown conservative philosophy, pakistan helped subsidise and distribute us resources to factions of the mujahideen against the ussr's intervention in communist afghanistan.\",\n",
       " \"pakistan's north-west frontier province became a base for the anti-soviet afghan fighters, with the province's influential deobandi ulama playing a significant role in encouraging and organising the 'jihad'.president zia died in a plane crash in 1988, and benazir bhutto, daughter of zulfikar ali bhutto, was elected as the country's first female prime minister.\",\n",
       " \"the ppp was followed by conservative pakistan muslim league (n), and over the next decade the leaders of the two parties fought for power, alternating in office while the country's situation worsened; economic indicators fell sharply, in contrast to the 1980s.\",\n",
       " 'this period is marked by prolonged stagflation, instability, corruption, nationalism, geopolitical rivalry with india, and the clash of left wing-right wing ideologies.',\n",
       " \"as pml (n) secured a supermajority in elections in 1997, sharif authorised nuclear testings (see:chagai-i and chagai-ii), as a retaliation to the second nuclear tests ordered by india, led by prime minister atal bihari vajpayee in may 1998. military tension between the two countries in the kargil district led to the kargil war of 1999, and turmoil in civic-military relations allowed general pervez musharraf to take over through a bloodless coup d'état.\",\n",
       " 'musharraf governed pakistan as chief executive from 1999 to 2001 and as president from 2001 to 2008—a period of enlightenment, social liberalism, extensive economic reforms, and direct involvement in the us-led war on terrorism.',\n",
       " 'when the national assembly historically completed its first full five-year term on 15 november 2007, the new elections were called by the election commission.after the assassination of benazir bhutto in 2007, the ppp secured the most votes in the elections of 2008, appointing party member yousaf raza gillani as prime minister.',\n",
       " 'threatened with impeachment, president musharraf resigned on 18 august 2008, and was succeeded by asif ali zardari.',\n",
       " \"clashes with the judicature prompted gillani's disqualification from the parliament and as the prime minister in june 2012. by its own financial calculations, pakistan's involvement in the war on terrorism has cost up to $118 billion, sixty thousand casualties and more than 1.8 million displaced civilians.\",\n",
       " 'the general election held in 2013 saw the pml (n) almost achieve a supermajority, following which nawaz sharif was elected as the prime minister, returning to the post for the third time in fourteen years, in a democratic transition.',\n",
       " 'in 2018, imran khan (the chairman of pti) won the 2018 pakistan general election with 116 general seats and became the 22nd prime minister of pakistan in election of national assembly of pakistan for prime minister by getting 176 votes against shehbaz sharif (the chairman of pml (n)) who got 96 votes.',\n",
       " 'role of islam  pakistan is the only country to have been created in the name of islam.',\n",
       " 'the idea of pakistan, which had received overwhelming popular support among indian muslims, especially those in the provinces of british india where muslims were in a minority such as the united provinces, was articulated in terms of an islamic state by the muslim league leadership, the ulama (islamic clergy) and jinnah.',\n",
       " 'jinnah had developed a close association with the ulama and upon his death was described by one such alim, maulana shabbir ahmad usmani, as the greatest muslim after aurangzeb and as someone who desired to unite the muslims of the world under the banner of islam.the objectives resolution in march 1949, which declared god as the sole sovereign over the entire universe, represented the first formal step to transform pakistan into an islamic state.',\n",
       " 'muslim league leader chaudhry khaliquzzaman asserted that pakistan could only truly become an islamic state after bringing all believers of islam into a single political unit.']"
      ]
     },
     "execution_count": 21,
     "metadata": {},
     "output_type": "execute_result"
    }
   ],
   "source": [
    "sent_tokens[1:100]"
   ]
  },
  {
   "cell_type": "code",
   "execution_count": 22,
   "id": "ec3fa238",
   "metadata": {},
   "outputs": [
    {
     "data": {
      "text/plain": [
       "[',',\n",
       " 'officially',\n",
       " 'the',\n",
       " 'islamic',\n",
       " 'republic',\n",
       " 'of',\n",
       " 'pakistan',\n",
       " ',',\n",
       " 'is',\n",
       " 'a',\n",
       " 'country',\n",
       " 'in',\n",
       " 'south',\n",
       " 'asia',\n",
       " '.',\n",
       " 'it',\n",
       " 'is',\n",
       " 'the',\n",
       " 'world',\n",
       " \"'s\",\n",
       " 'fifth-most',\n",
       " 'populous',\n",
       " 'country',\n",
       " ',',\n",
       " 'with',\n",
       " 'a',\n",
       " 'population',\n",
       " 'of',\n",
       " 'almost',\n",
       " '227',\n",
       " 'million',\n",
       " ',',\n",
       " 'and',\n",
       " 'has',\n",
       " 'the',\n",
       " 'world',\n",
       " \"'s\",\n",
       " 'second-largest',\n",
       " 'muslim',\n",
       " 'population',\n",
       " '.',\n",
       " 'pakistan',\n",
       " 'is',\n",
       " 'the',\n",
       " '33rd-largest',\n",
       " 'country',\n",
       " 'by',\n",
       " 'area',\n",
       " ',',\n",
       " 'spanning',\n",
       " '881,913',\n",
       " 'square',\n",
       " 'kilometres',\n",
       " '(',\n",
       " '340,509',\n",
       " 'square',\n",
       " 'miles',\n",
       " ')',\n",
       " '.',\n",
       " 'it',\n",
       " 'has',\n",
       " 'a',\n",
       " '1,046-kilometre',\n",
       " '(',\n",
       " '650-mile',\n",
       " ')',\n",
       " 'coastline',\n",
       " 'along',\n",
       " 'the',\n",
       " 'arabian',\n",
       " 'sea',\n",
       " 'and',\n",
       " 'gulf',\n",
       " 'of',\n",
       " 'oman',\n",
       " 'in',\n",
       " 'the',\n",
       " 'south',\n",
       " ',',\n",
       " 'and',\n",
       " 'is',\n",
       " 'bordered',\n",
       " 'by',\n",
       " 'india',\n",
       " 'to',\n",
       " 'the',\n",
       " 'east',\n",
       " ',',\n",
       " 'afghanistan',\n",
       " 'to',\n",
       " 'the',\n",
       " 'west',\n",
       " ',',\n",
       " 'iran',\n",
       " 'to',\n",
       " 'the',\n",
       " 'southwest',\n",
       " ',',\n",
       " 'and']"
      ]
     },
     "execution_count": 22,
     "metadata": {},
     "output_type": "execute_result"
    }
   ],
   "source": [
    "word_tokens[1:100]"
   ]
  },
  {
   "cell_type": "code",
   "execution_count": 23,
   "id": "5d08690c",
   "metadata": {},
   "outputs": [],
   "source": [
    "lemma = nltk.stem.WordNetLemmatizer()\n",
    "\n",
    "def lemtokens(tokens):\n",
    "    return [lemma.lemmatize(token) for token in tokens]\n",
    "dict_remove_punctuations = dict((ord(punct), None) for punct in string.punctuation)\n",
    "\n",
    "def lemnormalize(text):\n",
    "    return lemtokens(nltk.word_tokenize(text.lower().translate(dict_remove_punctuations)))"
   ]
  },
  {
   "cell_type": "code",
   "execution_count": 24,
   "id": "347faba5",
   "metadata": {},
   "outputs": [],
   "source": [
    "g_inputs = [\"hi\", \"hello\", \"hey\", \"helloo\", \"hellooo\", \"greetings\", \"greeting\",\n",
    "            \"how have you been\", \"how've you been\", \"what is up\", \"what's up\", \"what is cracking\",\n",
    "            \"what's cracking\", \"what is good\", \"what's good\", \"what is happening\", \"what's happening\", \n",
    "            \"what is new\", \"what's new\", \"what is neww\", \"g’day\", \"howdy\"]\n",
    "g_outputs = [\"hi\", \"hello\", \"*nods*\", \"hi there\", \"I am glad! You are talking to me\"]\n",
    "\n",
    "def greet(sentence): # WhAt Is Up\n",
    "    for word in sentence.split(): # WhAt, Is, Up\n",
    "        if word.lower() in g_inputs:\n",
    "            return random.choice(g_outputs)"
   ]
  },
  {
   "cell_type": "markdown",
   "id": "09744510",
   "metadata": {},
   "source": [
    "## Response Generation "
   ]
  },
  {
   "cell_type": "code",
   "execution_count": 25,
   "id": "5e1f615f",
   "metadata": {},
   "outputs": [],
   "source": [
    "from sklearn.feature_extraction.text import TfidfVectorizer\n",
    "from sklearn.metrics.pairwise import cosine_similarity"
   ]
  },
  {
   "cell_type": "code",
   "execution_count": 26,
   "id": "27bb0ffc",
   "metadata": {},
   "outputs": [],
   "source": [
    "def response(user_response):\n",
    "    robot_response = ''\n",
    "    TfidfVec = TfidfVectorizer(tokenizer=lemnormalize, stop_words='english')\n",
    "    tfidf = TfidfVec.fit_transform(sent_tokens)\n",
    "    vals = cosine_similarity(tfidf[-1],tfidf)\n",
    "    idx = vals.argsort()[0][-2]\n",
    "    flat = vals.flatten() # it is about vectors\n",
    "    flat.sort()\n",
    "    req_tfidf = flat[-2]\n",
    "    if(req_tfidf == 0): # when you ask an out of tpoic qustion\n",
    "        robot_response = robot_response + 'I am Sorry! I couldn\\'t get it'\n",
    "        return robot_response\n",
    "    else:\n",
    "        robot_response = robot_response + sent_tokens[idx]\n",
    "        return robot_response "
   ]
  },
  {
   "cell_type": "markdown",
   "id": "981d581f",
   "metadata": {},
   "source": [
    "## Defining a convo"
   ]
  },
  {
   "cell_type": "code",
   "execution_count": 2,
   "id": "ffa7d37f",
   "metadata": {},
   "outputs": [
    {
     "name": "stdout",
     "output_type": "stream",
     "text": [
      "Bot: My name is Bot. Lets have a conversation!, If you want to exit anytime, just type 'bye'\n",
      "I know: samsung(mobile)\n"
     ]
    },
    {
     "ename": "NameError",
     "evalue": "name 'greet' is not defined",
     "output_type": "error",
     "traceback": [
      "\u001b[1;31m---------------------------------------------------------------------------\u001b[0m",
      "\u001b[1;31mNameError\u001b[0m                                 Traceback (most recent call last)",
      "\u001b[1;32m~\\AppData\\Local\\Temp/ipykernel_10136/1107876998.py\u001b[0m in \u001b[0;36m<module>\u001b[1;34m\u001b[0m\n\u001b[0;32m      9\u001b[0m             \u001b[0mprint\u001b[0m\u001b[1;33m(\u001b[0m\u001b[1;34m'Bot: You are welcome'\u001b[0m\u001b[1;33m)\u001b[0m\u001b[1;33m\u001b[0m\u001b[1;33m\u001b[0m\u001b[0m\n\u001b[0;32m     10\u001b[0m         \u001b[1;32melse\u001b[0m\u001b[1;33m:\u001b[0m\u001b[1;33m\u001b[0m\u001b[1;33m\u001b[0m\u001b[0m\n\u001b[1;32m---> 11\u001b[1;33m             \u001b[1;32mif\u001b[0m\u001b[1;33m(\u001b[0m\u001b[0mgreet\u001b[0m\u001b[1;33m(\u001b[0m\u001b[0muser_response\u001b[0m\u001b[1;33m)\u001b[0m \u001b[1;33m!=\u001b[0m \u001b[1;32mNone\u001b[0m\u001b[1;33m)\u001b[0m\u001b[1;33m:\u001b[0m\u001b[1;33m\u001b[0m\u001b[1;33m\u001b[0m\u001b[0m\n\u001b[0m\u001b[0;32m     12\u001b[0m                 \u001b[0mprint\u001b[0m\u001b[1;33m(\u001b[0m\u001b[1;34m'Bot: '\u001b[0m\u001b[1;33m+\u001b[0m\u001b[0mgreet\u001b[0m\u001b[1;33m(\u001b[0m\u001b[0muser_response\u001b[0m\u001b[1;33m)\u001b[0m\u001b[1;33m)\u001b[0m\u001b[1;33m\u001b[0m\u001b[1;33m\u001b[0m\u001b[0m\n\u001b[0;32m     13\u001b[0m             \u001b[1;32melse\u001b[0m\u001b[1;33m:\u001b[0m\u001b[1;33m\u001b[0m\u001b[1;33m\u001b[0m\u001b[0m\n",
      "\u001b[1;31mNameError\u001b[0m: name 'greet' is not defined"
     ]
    }
   ],
   "source": [
    "flag = True \n",
    "print('Bot: My name is Bot. Lets have a conversation!, If you want to exit anytime, just type \\'bye\\'')\n",
    "while(flag == True):\n",
    "    user_response = input()\n",
    "    user_response = user_response.lower()\n",
    "    if(user_response != 'bye'):\n",
    "        if(user_response == 'thanks' or user_response == 'thank you'):\n",
    "            flag = False\n",
    "            print('Bot: You are welcome')\n",
    "        else:\n",
    "            if(greet(user_response) != None):\n",
    "                print('Bot: '+greet(user_response))\n",
    "            else:\n",
    "                sent_tokens.append(user_response)\n",
    "                word_tokens = word_tokens + nltk.word_tokenize(user_response)\n",
    "                final_words = list(set(word_tokens))\n",
    "                print('Bot: ', end='')\n",
    "                print(response(user_response))\n",
    "                sent_tokens.remove(user_response)\n",
    "    else:\n",
    "        flag = False\n",
    "        print('Bot: Goodbye! Take care :))')\n"
   ]
  },
  {
   "cell_type": "code",
   "execution_count": null,
   "id": "5955b4ba",
   "metadata": {},
   "outputs": [],
   "source": []
  },
  {
   "cell_type": "code",
   "execution_count": null,
   "id": "9fbc8728",
   "metadata": {},
   "outputs": [],
   "source": []
  }
 ],
 "metadata": {
  "kernelspec": {
   "display_name": "Python 3 (ipykernel)",
   "language": "python",
   "name": "python3"
  },
  "language_info": {
   "codemirror_mode": {
    "name": "ipython",
    "version": 3
   },
   "file_extension": ".py",
   "mimetype": "text/x-python",
   "name": "python",
   "nbconvert_exporter": "python",
   "pygments_lexer": "ipython3",
   "version": "3.9.7"
  }
 },
 "nbformat": 4,
 "nbformat_minor": 5
}
