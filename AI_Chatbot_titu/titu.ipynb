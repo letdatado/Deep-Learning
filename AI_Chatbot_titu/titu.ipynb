{
 "cells": [
  {
   "cell_type": "code",
   "execution_count": 1,
   "id": "826bbb1d",
   "metadata": {},
   "outputs": [],
   "source": [
    "# importing the libraries\n",
    "import numpy as np\n",
    "import nltk\n",
    "import string\n",
    "import random"
   ]
  },
  {
   "cell_type": "code",
   "execution_count": null,
   "id": "8ff880d9",
   "metadata": {},
   "outputs": [],
   "source": [
    "# importing and reading the corpus\n",
    "file = open('chatbot.txt', 'r', errors='ignore')\n",
    "raw_doc = file.read()\n",
    "raw_doc = raw_doc.lower()\n",
    "\n",
    "nltk.download('punkt')\n",
    "nltk.download('wordnet')\n",
    "\n",
    "sent_tokens = nltk.sent_tokenize(raw_doc)\n",
    "word_tokens = nltk.word_tokenize(raw_doc)"
   ]
  },
  {
   "cell_type": "code",
   "execution_count": null,
   "id": "a0d9f038",
   "metadata": {},
   "outputs": [],
   "source": [
    "sent_tokens[5:7]"
   ]
  },
  {
   "cell_type": "code",
   "execution_count": null,
   "id": "0e9d2603",
   "metadata": {},
   "outputs": [],
   "source": [
    "word_tokens[4:6]"
   ]
  },
  {
   "cell_type": "code",
   "execution_count": null,
   "id": "a26c619c",
   "metadata": {},
   "outputs": [],
   "source": [
    "lemma = nltk.stem.WordNetLemmatizer()\n",
    "\n",
    "def lemtokens(tokens):\n",
    "    return [lemma.lemmatize(token) for token in tokens]\n",
    "dict_remove_punctuations = dict((ord(punct), None) for punct in string.punctuation)\n",
    "\n",
    "def lemnormalize(text):\n",
    "    return lemtokens(nltk.word_tokenize(text.lower().translate(dict_remove_punctuations)))"
   ]
  },
  {
   "cell_type": "code",
   "execution_count": null,
   "id": "a03d57c1",
   "metadata": {},
   "outputs": [],
   "source": [
    "g_inputs = [\"hi\", \"hello\", \"hey\", \"helloo\", \"hellooo\", \"greetings\", \"greeting\",\n",
    "            \"how have you been\", \"how've you been\", \"what is up\", \"what's up\", \"what is cracking\",\n",
    "            \"what's cracking\", \"what is good\", \"what's good\", \"what is happening\", \"what's happening\", \n",
    "            \"what is new\", \"what's new\", \"what is neww\", \"g’day\", \"howdy\"]\n",
    "g_outputs = [\"hi\", \"hello\", \"*nods*\", \"hi there\", \"I am glad! You are talking to me\"]\n",
    "\n",
    "def greet(sentence):\n",
    "    for word in sentence.split():\n",
    "        if word.lower() in g_inputs:\n",
    "            return random.choice(g_outputs)"
   ]
  },
  {
   "cell_type": "markdown",
   "id": "0859e9ae",
   "metadata": {},
   "source": [
    "## Response Generation "
   ]
  },
  {
   "cell_type": "code",
   "execution_count": null,
   "id": "0f15f159",
   "metadata": {},
   "outputs": [],
   "source": [
    "from sklearn.feature_extraction.text import TfidfVectorizer\n",
    "from sklearn.metrics.pairwise import cosine_similarity"
   ]
  },
  {
   "cell_type": "code",
   "execution_count": null,
   "id": "1394e0f3",
   "metadata": {},
   "outputs": [],
   "source": [
    "def response(user_response):\n",
    "    robot_response = ''\n",
    "    TfidfVec = TfidfVectorizer(tokenizer=lemnormalize, stop_words='english')\n",
    "    tfidf = TfidfVec.fit_transform(sent_tokens)\n",
    "    vals = cosine_similarity(tfidf[-1],tfidf)\n",
    "    idx = vals.argsort()[0][-2]\n",
    "    flat = vals.flatten()\n",
    "    flat.sort()\n",
    "    req_tfidf = flat[-2]\n",
    "    if(req_tfidf == 0):\n",
    "        robot_response = robot_response + 'I am Sorry! I couldn\\'t get it'\n",
    "        return robot_response\n",
    "    else:\n",
    "        robot_response = robot_response + sent_tokens[idx]\n",
    "        return robot_response "
   ]
  },
  {
   "cell_type": "markdown",
   "id": "b1de62b0",
   "metadata": {},
   "source": [
    "## Defining a convo"
   ]
  },
  {
   "cell_type": "code",
   "execution_count": null,
   "id": "b041e37b",
   "metadata": {},
   "outputs": [],
   "source": [
    "flag = True\n",
    "print('Bot: My name is Titu. Lets have a conversation!, If you want to exit anytime, just type \\'bye\\'')\n",
    "while(flag == True):\n",
    "    user_response = input()\n",
    "    user_response = user_response.lower()\n",
    "    if(user_response != 'bye'):\n",
    "        if(user_response == 'thanks' or user_response == 'thank you'):\n",
    "            flag = False\n",
    "            print('Bot: You are welcome')\n",
    "        else:\n",
    "            if(greet(user_response) != None):\n",
    "                print('Bot: '+greet(user_response))\n",
    "            else:\n",
    "                sent_tokens.append(user_response)\n",
    "                word_tokens = word_tokens + nltk.word_tokenize(user_response)\n",
    "                final_words = list(set(word_tokens))\n",
    "                print('Bot: ', end='')\n",
    "                print(response(user_response))\n",
    "                sent_tokens.remove(user_response)\n",
    "    else:\n",
    "        flag = False\n",
    "        print('Bot: Goodbye! Take care :))')"
   ]
  },
  {
   "cell_type": "code",
   "execution_count": null,
   "id": "3c9e88d0",
   "metadata": {},
   "outputs": [],
   "source": []
  }
 ],
 "metadata": {
  "kernelspec": {
   "display_name": "Python 3 (ipykernel)",
   "language": "python",
   "name": "python3"
  },
  "language_info": {
   "codemirror_mode": {
    "name": "ipython",
    "version": 3
   },
   "file_extension": ".py",
   "mimetype": "text/x-python",
   "name": "python",
   "nbconvert_exporter": "python",
   "pygments_lexer": "ipython3",
   "version": "3.9.7"
  }
 },
 "nbformat": 4,
 "nbformat_minor": 5
}
